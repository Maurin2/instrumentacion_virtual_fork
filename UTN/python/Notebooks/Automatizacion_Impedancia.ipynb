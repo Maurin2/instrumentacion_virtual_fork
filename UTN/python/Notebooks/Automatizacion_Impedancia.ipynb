{
 "cells": [
  {
   "cell_type": "markdown",
   "metadata": {},
   "source": [
    "# Automatización de Osciloscopio Instek para el calculo de impedancia"
   ]
  },
  {
   "cell_type": "markdown",
   "metadata": {},
   "source": [
    "Primero importamos librerias y reseteamos variables (por si ejecutamos repetidas veces el mismo notebook).\n",
    "\n",
    "Antes de ejecutar el notebook debemos setear el puerto serie para que nos permita leerlo, desde un termina hacemos:\n",
    "\n",
    "sudo chmod 777 /dev/ttyACM0                                       \n"
   ]
  },
  {
   "cell_type": "code",
   "execution_count": 1,
   "metadata": {},
   "outputs": [
    {
     "name": "stdout",
     "output_type": "stream",
     "text": [
      "Once deleted, variables cannot be recovered. Proceed (y/[n])? y\n"
     ]
    }
   ],
   "source": [
    "# Reset de variables\n",
    "%reset\n",
    "# Instrucción para el notebook, hace los ploteos dentro del notebook\n",
    "%matplotlib inline\n",
    "\n",
    "# Paquete pyserial\n",
    "import serial\n",
    "# Paquete time\n",
    "import time\n",
    "# Paquete numpy, para operaciones con vectores y matrices\n",
    "import numpy as np\n",
    "# Paquete para plotear al estilo Matlab\n",
    "import matplotlib.pyplot as plt\n",
    "\n",
    "\n"
   ]
  },
  {
   "cell_type": "markdown",
   "metadata": {},
   "source": [
    "## Armamos una función que toma la lectura cruda de un canal y nos devuelve el dato"
   ]
  },
  {
   "cell_type": "code",
   "execution_count": 26,
   "metadata": {
    "collapsed": true
   },
   "outputs": [],
   "source": [
    "def Parsear_canal(memoria_canal, offset, scale, muestras, VERBOSE):\n",
    "    if VERBOSE:\n",
    "        print('Header en buffer:')\n",
    "        print(memoria_canal_1[0:14])\n",
    "    \n",
    "    # Leemos el \"#4\", el comienzo del header de los datos\n",
    "    # un char (int 8 bits) litle-endian\n",
    "    h  = np.frombuffer(memoria_canal, dtype=np.int8, count=1, offset=0)\n",
    "    f  = np.frombuffer(memoria_canal, dtype=np.int8, count=1, offset=1)\n",
    "\n",
    "    # Leemos el resto del header, tamaño de los datos\n",
    "    nn  = np.frombuffer(memoria_canal, dtype=np.int8, count=4, offset=2)\n",
    "\n",
    "    # Leemos la base de tiempo\n",
    "    tb = np.frombuffer(memoria_canal, dtype=np.uint8, count=4, offset=6) \n",
    "    # Viene en big-endian (IEEE 754), convertimos a little-endian (revertimos el orden de los bytes)\n",
    "    t = tb.newbyteorder()\n",
    "\n",
    "    # Leemos el numero de canal del que proviene (dado antes por \"ACQ#:\")\n",
    "    ch = np.frombuffer(memoria_canal, dtype=np.int8, count=1, offset=10)\n",
    "\n",
    "    # Sacamos del buffer los 3 bytes reservados\n",
    "    r = np.frombuffer(memoria_canal, dtype=np.int8, count=3, offset=11)\n",
    "    \n",
    "    if VERBOSE:\n",
    "        print(\"Header decodificado:\")\n",
    "        print(str(chr(h)), str(chr(f)), str(chr(nn[0])), str(chr(nn[1])), str(chr(nn[2])), str(chr(nn[3])), t, ch)\n",
    "\n",
    "    # Ahora convertimos los valores del ADC a volts\n",
    "    #   is ADCgain the ADC mapping of 10 volts range onto 256 8-bit values\n",
    "    #   ... or is it really just a magic constant of 1/25?\n",
    "    ADCgain = 10.0/250;  #todo: why not 256?  data matches for 1/25\n",
    "\n",
    "    # Leemos 4000 cuentas crudas del ADC\n",
    "    # Valores de 16 bits signados, pero el LSB es siempre 0, siendo realmente\n",
    "    # valores de 8 bits\n",
    "    memoria_np_canal = np.frombuffer(memoria_canal, dtype=np.int16, count=muestras, offset=14)\n",
    "    memoria_np_canal = memoria_np_canal/(2**8)\n",
    "\n",
    "    v = offset + memoria_np_canal*scale*ADCgain;\n",
    "\n",
    "    if VERBOSE:\n",
    "        print(memoria_np_canal.shape)\n",
    "        print(memoria_np_canal)\n",
    "\n",
    "    return v\n"
   ]
  },
  {
   "cell_type": "markdown",
   "metadata": {},
   "source": [
    "## Seteo el puerto serie"
   ]
  },
  {
   "cell_type": "code",
   "execution_count": 27,
   "metadata": {},
   "outputs": [
    {
     "name": "stdout",
     "output_type": "stream",
     "text": [
      "Puerto usado: /dev/ttyACM0\n",
      "b'GW,GDS-1102A-U,GEO211062,V1.14\\n'\n"
     ]
    }
   ],
   "source": [
    "\n",
    "ser = serial.Serial(\n",
    "    port='/dev/ttyACM0',\n",
    "    baudrate=115200,\n",
    "    timeout=10\n",
    "#    parity=serial.PARITY_ODD,\n",
    "#    stopbits=serial.STOPBITS_ONE,\n",
    "#    bytesize=serial.EIGHTBITS\n",
    ")\n",
    "\n",
    "print(\"Puerto usado: %s\"%ser.name)\n",
    "\n",
    "# Pregunto al osciloscio su modelo\n",
    "ser.write(\"*IDN?\\n\".encode())     \n",
    "# Espero la respuesta\n",
    "time.sleep(1)\n",
    "while ser.in_waiting: \n",
    "    print (ser.readline())\n",
    "    \n"
   ]
  },
  {
   "cell_type": "markdown",
   "metadata": {},
   "source": [
    "## Pedimos los datos del canal 1:"
   ]
  },
  {
   "cell_type": "code",
   "execution_count": 28,
   "metadata": {},
   "outputs": [
    {
     "name": "stdout",
     "output_type": "stream",
     "text": [
      "Canal 1:\n",
      "Escala:  1.0\n",
      "Offset:  0.04\n",
      "Base de tiempo:  0.001\n",
      "Leidos 4095 datos\n"
     ]
    },
    {
     "data": {
      "text/plain": [
       "[<matplotlib.lines.Line2D at 0x7f05f8300cf8>]"
      ]
     },
     "execution_count": 28,
     "metadata": {},
     "output_type": "execute_result"
    },
    {
     "data": {
      "image/png": "[encoded data removed]",
      "text/plain": [
       "<matplotlib.figure.Figure at 0x7f05f8304828>"
      ]
     },
     "metadata": {},
     "output_type": "display_data"
    }
   ],
   "source": [
    "print(\"Canal 1:\")\n",
    "\n",
    "# Apagamos el modo actual de adquisicion (generalmente triggered) y lo\n",
    "# pasamos a \"single\"\n",
    "ser.write(\":STOP\\n\".encode()) \n",
    "time.sleep(1.0);\n",
    "ser.write(\":SINGLE\\n\".encode()) \n",
    "time.sleep(1.0);\n",
    "\n",
    "# Pedimos la escala (volt/div)\n",
    "ser.reset_input_buffer()\n",
    "ser.write(\":CHAN1:SCAL?\\n\".encode()) \n",
    "time.sleep(1.0);\n",
    "while ser.in_waiting:  # Or: while ser.inWaiting():\n",
    "    scale_1_buff  = ser.readline();\n",
    "scale_1 = float(scale_1_buff)\n",
    "print(\"Escala: \",scale_1)\n",
    "\n",
    "# Pedimos el offset de la señal\n",
    "ser.reset_input_buffer()\n",
    "ser.write(\":CHAN1:OFFS?\\n\".encode()) \n",
    "time.sleep(1.0);\n",
    "while ser.in_waiting:  # Or: while ser.inWaiting():\n",
    "    offset_1_buff = ser.readline();\n",
    "offset_1 = float(offset_1_buff)\n",
    "print(\"Offset: \",offset_1)\n",
    "\n",
    "# Pedimos la escala de tiempo de la señal\n",
    "ser.reset_input_buffer()\n",
    "ser.write(\":timebase:scale?\\n\".encode()) \n",
    "time.sleep(1.0);\n",
    "while ser.in_waiting:  # Or: while ser.inWaiting():\n",
    "    time_1_buff = ser.readline();\n",
    "time_1 = float(time_1_buff)\n",
    "print(\"Base de tiempo: \",time_1)\n",
    "\n",
    "\n",
    "\n",
    "\n",
    "# Leemos canal 1\n",
    "ser.write(\":ACQ1:MEM?\\n\".encode()) \n",
    "#ser.write(\":ACQUIRE1:LMEMORY?\\n\".encode()) \n",
    "time.sleep(2.0);\n",
    "n = ser.inWaiting()\n",
    "memoria_canal_1 = ser.read(n)\n",
    "print(\"Leidos %d datos\"%n)\n",
    "    \n",
    "# Parseamos los datos\n",
    "ch1 = Parsear_canal(memoria_canal_1, offset_1, scale_1, 2000, False)\n",
    "    \n",
    "# Mostramos\n",
    "plt.plot(ch1)"
   ]
  },
  {
   "cell_type": "markdown",
   "metadata": {},
   "source": [
    "## Pedimos los datos del canal 2:"
   ]
  },
  {
   "cell_type": "code",
   "execution_count": 29,
   "metadata": {},
   "outputs": [
    {
     "name": "stdout",
     "output_type": "stream",
     "text": [
      "Canal 2:\n",
      "Escala:  0.5\n",
      "Offset:  0.0\n",
      "Base de tiempo:  0.001\n",
      "Leidos 4095 datos\n"
     ]
    },
    {
     "data": {
      "text/plain": [
       "[<matplotlib.lines.Line2D at 0x7f05f836def0>]"
      ]
     },
     "execution_count": 29,
     "metadata": {},
     "output_type": "execute_result"
    },
    {
     "data": {
      "image/png": "[encoded data removed]",
      "text/plain": [
       "<matplotlib.figure.Figure at 0x7f05f839f4e0>"
      ]
     },
     "metadata": {},
     "output_type": "display_data"
    }
   ],
   "source": [
    "print(\"Canal 2:\")\n",
    "\n",
    "# Apagamos el modo actual de adquisicion (generalmente triggered) y lo\n",
    "# pasamos a \"single\"\n",
    "ser.write(\":STOP\\n\".encode()) \n",
    "time.sleep(1.0);\n",
    "ser.write(\":SINGLE\\n\".encode()) \n",
    "time.sleep(1.0);\n",
    "\n",
    "# Pedimos la escala (volt/div)\n",
    "ser.reset_input_buffer()\n",
    "ser.write(\":CHAN2:SCAL?\\n\".encode()) \n",
    "time.sleep(1.0);\n",
    "while ser.in_waiting:  # Or: while ser.inWaiting():\n",
    "    scale_2_buff  = ser.readline();\n",
    "scale_2 = float(scale_2_buff)\n",
    "print(\"Escala: \",scale_2)\n",
    "\n",
    "# Pedimos el offset de la señal\n",
    "ser.reset_input_buffer()\n",
    "ser.write(\":CHAN2:OFFS?\\n\".encode()) \n",
    "time.sleep(1.0);\n",
    "while ser.in_waiting:  # Or: while ser.inWaiting():\n",
    "    offset_2_buff = ser.readline();\n",
    "offset_2 = float(offset_2_buff)\n",
    "print(\"Offset: \",offset_2)\n",
    "\n",
    "# Pedimos la escala de tiempo de la señal\n",
    "ser.reset_input_buffer()\n",
    "ser.write(\":timebase:scale?\\n\".encode()) \n",
    "time.sleep(1.0);\n",
    "while ser.in_waiting:  # Or: while ser.inWaiting():\n",
    "    time_2_buff = ser.readline();\n",
    "time_2 = float(time_2_buff)\n",
    "print(\"Base de tiempo: \",time_2)\n",
    "\n",
    "# Leemos canal 1\n",
    "ser.write(\":ACQ2:MEM?\\n\".encode()) \n",
    "#ser.write(\":ACQUIRE1:LMEMORY?\\n\".encode()) \n",
    "time.sleep(2.0);\n",
    "n = ser.inWaiting()\n",
    "memoria_canal_2 = ser.read(n)\n",
    "print(\"Leidos %d datos\"%n)\n",
    "\n",
    "# Parseamos los datos\n",
    "ch2 = Parsear_canal(memoria_canal_2, offset_2, scale_2, 2000, False)\n",
    "    \n",
    "# Mostramos\n",
    "plt.plot(ch2)"
   ]
  },
  {
   "cell_type": "markdown",
   "metadata": {},
   "source": [
    "## Finalmente cerramos el puerto, sino va a haber problemas..."
   ]
  },
  {
   "cell_type": "code",
   "execution_count": 30,
   "metadata": {
    "collapsed": true
   },
   "outputs": [],
   "source": [
    "ser.close()             # close port"
   ]
  },
  {
   "cell_type": "markdown",
   "metadata": {},
   "source": [
    "## Calculo de Impedancia"
   ]
  },
  {
   "cell_type": "markdown",
   "metadata": {},
   "source": [
    "Ahora sabiendo que el canal 1 es la tensión sobre el capacitor/inductor y que la diferencia entre ambos (conociendo la resistencia) es la corriente, podemos calcular el valor de la impedancia. \n",
    "Primero calculamos la señal de corriente y la transformada de fourier de ambas señales:"
   ]
  },
  {
   "cell_type": "code",
   "execution_count": 31,
   "metadata": {},
   "outputs": [],
   "source": [
    "# Fs = 250\n",
    "# f = 20\n",
    "# sample = 1e5\n",
    "# x = np.arange(sample)\n",
    "# ch1 = 40*np.sin(2 * np.pi * f * x / Fs)\n",
    "\n",
    "\n",
    "# x = np.arange(sample)\n",
    "# ch2 = 10*np.sin(2 * np.pi * f * x / Fs + np.pi/6)\n",
    "\n",
    "# plt.figure()\n",
    "# plt.plot(sinal_1)\n",
    "# plt.plot(sinal_2)\n",
    "\n",
    "\n"
   ]
  },
  {
   "cell_type": "code",
   "execution_count": 32,
   "metadata": {},
   "outputs": [
    {
     "data": {
      "text/plain": [
       "<matplotlib.text.Text at 0x7f05f8452860>"
      ]
     },
     "execution_count": 32,
     "metadata": {},
     "output_type": "execute_result"
    },
    {
     "data": {
      "image/png": "[encoded data removed]",
      "text/plain": [
       "<matplotlib.figure.Figure at 0x7f05f8319ba8>"
      ]
     },
     "metadata": {},
     "output_type": "display_data"
    }
   ],
   "source": [
    "R = 1000\n",
    "sample = 2000\n",
    "Fs = 2000\n",
    "\n",
    "# Señal de corriente\n",
    "I_signal = (ch1-ch2)/R\n",
    "\n",
    "# Transformo\n",
    "V_fft = np.fft.fft(ch1)\n",
    "V_fft = V_fft[0:np.floor(sample/2).astype(np.int)]\n",
    "I_fft = np.fft.fft(I_signal)\n",
    "I_fft = I_fft[0:np.floor(sample/2).astype(np.int)]\n",
    "\n",
    "# Modulo\n",
    "V_fft_abs= np.abs(V_fft)\n",
    "V_fft_abs = V_fft_abs/len(V_fft_abs)\n",
    "I_fft_abs = np.abs(I_fft)\n",
    "I_fft_abs = I_fft_abs/len(I_fft_abs)\n",
    "\n",
    "# Fase\n",
    "V_fft_fase = np.angle(V_fft)\n",
    "I_fft_fase = np.angle(I_fft)\n",
    "\n",
    "\n",
    "# Calculo el eje de frecuencia\n",
    "fcia=np.linspace(0,Fs/2,len(V_fft))\n",
    "\n",
    "plt.figure()\n",
    "plt.plot(fcia,V_fft_abs)\n",
    "plt.plot(fcia,I_fft_abs)\n",
    "plt.ylabel(\"[V]/[I]\")\n",
    "plt.xlabel(\"Frecuencia [Hz]\")\n"
   ]
  },
  {
   "cell_type": "code",
   "execution_count": 31,
   "metadata": {},
   "outputs": [],
   "source": [
    "#print(1/(time_1*10/2000))\n",
    "#print(time_2)"
   ]
  },
  {
   "cell_type": "code",
   "execution_count": 33,
   "metadata": {},
   "outputs": [
    {
     "name": "stdout",
     "output_type": "stream",
     "text": [
      "el modulo de la impedancia es 1185.8691920137157 ohm\n",
      "la fase de Z es 26.119428531345633 grados\n",
      "parte real 1064.766266742665 ohms\n",
      "parte imaginaria 522.0713914534593 ohms\n"
     ]
    }
   ],
   "source": [
    "# Busco el maximo\n",
    "V_arg_max = np.argmax(V_fft_abs)\n",
    "I_arg_max = np.argmax(I_fft_abs)\n",
    "\n",
    "# Calculo el modulo de la impedancia\n",
    "Z=V_fft_abs[V_arg_max]/I_fft_abs[I_arg_max]\n",
    "\n",
    "# Y determino la frecuencia de la señal\n",
    "f = fcia[V_arg_max]\n",
    "\n",
    "# Recupero la fase en el punto, que es la fase de cada canal\n",
    "V_fase = V_fft_fase[V_arg_max]\n",
    "I_fase = I_fft_fase[I_arg_max]\n",
    "\n",
    "# Calculo la diferencia de fase\n",
    "diff_fase = (V_fase-I_fase)\n",
    "\n",
    "# Descompongo la impedancia\n",
    "Zreal=Z*np.cos(diff_fase)\n",
    "Zim=Z*np.sin(diff_fase)\n",
    "\n",
    "# informo\n",
    "print(\"el modulo de la impedancia es {} ohm\".format(Z))\n",
    "print(\"la fase de Z es {} grados\".format(np.rad2deg(diff_fase)))\n",
    "\n",
    "print(\"parte real {} ohms\".format(Zreal))\n",
    "print(\"parte imaginaria {} ohms\".format(Zim))"
   ]
  },
  {
   "cell_type": "markdown",
   "metadata": {},
   "source": [
    "### Finalmente determino el elemento y calculo su valor"
   ]
  },
  {
   "cell_type": "code",
   "execution_count": 34,
   "metadata": {},
   "outputs": [
    {
     "name": "stdout",
     "output_type": "stream",
     "text": [
      "Inductancia : 5.187947022130328\n"
     ]
    }
   ],
   "source": [
    "if Zim < 0:\n",
    "    # Es un capacitor, lo despejo\n",
    "    C=1/(np.abs(Zim)*2*np.pi*f)\n",
    "    print(\"Capacitancia : {}\".format(C))\n",
    "else:\n",
    "    # Es un inductor, lo despejo\n",
    "    L=np.abs(Zim)/(2*np.pi*f)\n",
    "    print(\"Inductancia : {}\".format(L))"
   ]
  }
 ],
 "metadata": {
  "kernelspec": {
   "display_name": "Medidas_I",
   "language": "python",
   "name": "medidas_py3"
  },
  "language_info": {
   "codemirror_mode": {
    "name": "ipython",
    "version": 3
   },
   "file_extension": ".py",
   "mimetype": "text/x-python",
   "name": "python",
   "nbconvert_exporter": "python",
   "pygments_lexer": "ipython3",
   "version": "3.6.5"
  }
 },
 "nbformat": 4,
 "nbformat_minor": 1
}
